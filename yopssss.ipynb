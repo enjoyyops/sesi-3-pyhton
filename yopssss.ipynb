{
 "cells": [
  {
   "cell_type": "code",
   "execution_count": 25,
   "id": "9b157661-a587-48ba-83ca-9f7b76979e8c",
   "metadata": {},
   "outputs": [
    {
     "name": "stdin",
     "output_type": "stream",
     "text": [
      "Isikan Nilai x: 90\n",
      "Isikan Nilai y: 80\n"
     ]
    },
    {
     "name": "stdout",
     "output_type": "stream",
     "text": [
      "Hasil Penjumlahan 90 + 80 = 170\n",
      "Hasil Pengurangan 90 - 80 = 10\n",
      "Hasil Perkalian 90 * 80 = 7200\n",
      "Hasil Pembagian 90 / 80 = 1.125\n",
      "Hasil Modulus 90 % 80 = 10\n",
      "Hasil Pangkat 90 ** 80 = 2184745005283921262423065650299023514256705010491275188081282394866293235520100000000000000000000000000000000000000000000000000000000000000000000000000000000\n",
      "Hasil Pembagian Bulat 90 // 80 = 1\n"
     ]
    }
   ],
   "source": [
    "x = input(\"Isikan Nilai x:\")\n",
    "y = input(\"Isikan Nilai y:\")\n",
    "x = int(x)\n",
    "y = int(y)\n",
    "hasilTambah = x + y\n",
    "hasilKurang = x - y\n",
    "hasilKali = x * y\n",
    "hasilBagi = x / y\n",
    "hasilMod = x % y\n",
    "hasilPangkat = x ** y\n",
    "hasilDiv = x // y\n",
    "\n",
    "print(\"Hasil Penjumlahan\",x,\"+\",y,\"=\",hasilTambah)\n",
    "print(\"Hasil Pengurangan\",x,\"-\",y,\"=\",hasilKurang)\n",
    "print(\"Hasil Perkalian\",x,\"*\",y,\"=\",hasilKali)\n",
    "print(\"Hasil Pembagian\",x,\"/\",y,\"=\",hasilBagi)\n",
    "print(\"Hasil Modulus\",x,\"%\",y,\"=\",hasilMod)\n",
    "print(\"Hasil Pangkat\",x,\"**\",y,\"=\",hasilPangkat)\n",
    "print(\"Hasil Pembagian Bulat\",x,\"//\",y,\"=\",hasilDiv)\n",
    "\n"
   ]
  },
  {
   "cell_type": "code",
   "execution_count": 27,
   "id": "b0cdffa3-7f0f-4770-8c77-e97f30ded7c1",
   "metadata": {},
   "outputs": [
    {
     "name": "stdin",
     "output_type": "stream",
     "text": [
      "Isikan Nilai Awal: 90\n"
     ]
    },
    {
     "name": "stdout",
     "output_type": "stream",
     "text": [
      "Nilai Awal : 90\n",
      "Setelah ditambah 3= 93\n",
      "Kemudian dikurang dengan 5= 88\n",
      "Selanjutnya dikali dengan 3= 264\n",
      "Proses terakhir dibagi dengan 2= 132.0\n"
     ]
    }
   ],
   "source": [
    "nilaiAwal = int(input(\"Isikan Nilai Awal:\"))\n",
    "\n",
    "print(\"Nilai Awal :\",nilaiAwal)\n",
    "nilaiAwal+=3\n",
    "print(\"Setelah ditambah 3=\",nilaiAwal)\n",
    "nilaiAwal-=5\n",
    "print(\"Kemudian dikurang dengan 5=\",nilaiAwal)\n",
    "nilaiAwal*=3\n",
    "print(\"Selanjutnya dikali dengan 3=\",nilaiAwal)\n",
    "nilaiAwal/=2\n",
    "print(\"Proses terakhir dibagi dengan 2=\",nilaiAwal)"
   ]
  },
  {
   "cell_type": "code",
   "execution_count": 28,
   "id": "1a6b9476-c3a5-4073-b7f4-ba92d82fd070",
   "metadata": {},
   "outputs": [
    {
     "name": "stdin",
     "output_type": "stream",
     "text": [
      "Isikan Nilai fVal : 90\n",
      "Isikian Nilai sVal : 80\n"
     ]
    },
    {
     "name": "stdout",
     "output_type": "stream",
     "text": [
      "90 = 80 False\n",
      "90 != 80 True\n",
      "90 > 80 True\n",
      "90 < 80 False\n",
      "90 >= 80 True\n",
      "90 <= 80 False\n"
     ]
    }
   ],
   "source": [
    "fVal = int(input(\"Isikan Nilai fVal :\"))\n",
    "sVal = int(input(\"Isikian Nilai sVal :\"))\n",
    "\n",
    "print(fVal,\"=\",sVal,fVal==sVal)\n",
    "print(fVal,\"!=\",sVal,fVal!=sVal)\n",
    "print(fVal,\">\",sVal,fVal>sVal)\n",
    "print(fVal,\"<\",sVal,fVal<sVal)\n",
    "print(fVal,\">=\",sVal,fVal>=sVal)\n",
    "print(fVal,\"<=\",sVal,fVal<=sVal)"
   ]
  },
  {
   "cell_type": "code",
   "execution_count": 12,
   "id": "51040ab1-fa52-4105-9b84-ff73afd695da",
   "metadata": {},
   "outputs": [
    {
     "name": "stdin",
     "output_type": "stream",
     "text": [
      "Isikan Bilangan 1 : 90\n",
      "Isikan Bilangan 2 : 80\n"
     ]
    },
    {
     "name": "stdout",
     "output_type": "stream",
     "text": [
      "Bilangan 1: 90\n",
      "Bilangan 2: 80\n",
      "Apakah Bil. 1 mod 2 = 0 dan Bil. 2 lebih besar dari 3? True\n",
      "Apakah Bil. 1 mod 2 = 0 atau Bil. 2 lebih besar dari 3? True\n",
      "Apakah Bil. 1 mod 2 = 0 atau Bil. 2 lebih besar dari 3? False\n"
     ]
    }
   ],
   "source": [
    "num_1 = int(input(\"Isikan Bilangan 1 :\"))\n",
    "num_2 = int(input(\"Isikan Bilangan 2 :\"))\n",
    "\n",
    "print(\"Bilangan 1:\",num_1)\n",
    "print(\"Bilangan 2:\",num_2)\n",
    "\n",
    "print(\"Apakah Bil. 1 mod 2 = 0 dan Bil. 2 lebih besar dari 3?\",num_1 % 2==0 and num_2 > 3)\n",
    "print(\"Apakah Bil. 1 mod 2 = 0 atau Bil. 2 lebih besar dari 3?\",num_1 % 2==0 or num_2 > 3)\n",
    "print(\"Apakah Bil. 1 mod 2 = 0 atau Bil. 2 lebih besar dari 3?\",not(num_1 % 2==0 or num_2 > 3))"
   ]
  },
  {
   "cell_type": "code",
   "execution_count": 20,
   "id": "d45e3d5a-a9b6-4e14-8723-80abe7468802",
   "metadata": {},
   "outputs": [
    {
     "name": "stdout",
     "output_type": "stream",
     "text": [
      "True\n",
      "True\n",
      "False\n",
      "Memory Address dari val1 1873435912784\n",
      "Memory Address dari val2 1873435912784\n",
      "Memory Address dari val3 1873435912784\n"
     ]
    },
    {
     "name": "stderr",
     "output_type": "stream",
     "text": [
      "<>:1: SyntaxWarning: \"is\" with a literal. Did you mean \"==\"?\n",
      "<>:1: SyntaxWarning: \"is\" with a literal. Did you mean \"==\"?\n",
      "C:\\Users\\komputer 6\\AppData\\Local\\Temp\\ipykernel_12648\\3299290402.py:1: SyntaxWarning: \"is\" with a literal. Did you mean \"==\"?\n",
      "  print(\"andi\" is \"andi\")\n"
     ]
    }
   ],
   "source": [
    "print(\"andi\" is \"andi\")\n",
    "val1 = 10\n",
    "val2 = 10\n",
    "val3 = 10\n",
    "print(val1 is val2)\n",
    "print(val1 is not val2)\n",
    "\n",
    "print(\"Memory Address dari val1\",id(val1))\n",
    "print(\"Memory Address dari val2\",id(val2))\n",
    "print(\"Memory Address dari val3\",id(val3))"
   ]
  },
  {
   "cell_type": "code",
   "execution_count": 18,
   "id": "1873f85e-ed3a-4f89-a3da-91828010c818",
   "metadata": {},
   "outputs": [
    {
     "name": "stdout",
     "output_type": "stream",
     "text": [
      "True\n",
      "False\n"
     ]
    }
   ],
   "source": [
    "find = (\"Budi\")\n",
    "daftarMahasiswa = (\"Rudi\",\"Deni\",\"Nana\",\"Budi\")\n",
    "\n",
    "print(find in daftarMahasiswa)\n",
    "print(find not in daftarMahasiswa)"
   ]
  },
  {
   "cell_type": "code",
   "execution_count": 21,
   "id": "f790cb64-effe-4a2c-b2f1-fce141eb517b",
   "metadata": {},
   "outputs": [
    {
     "name": "stdin",
     "output_type": "stream",
     "text": [
      "Isikan Nilai 1 : 90\n",
      "Isikan Nilai 2 : 80\n"
     ]
    },
    {
     "name": "stdout",
     "output_type": "stream",
     "text": [
      "80\n",
      "90\n",
      "10\n",
      "108803323765316625723555840\n",
      "0\n"
     ]
    }
   ],
   "source": [
    "desimal1 = int(input(\"Isikan Nilai 1 :\"))\n",
    "desimal2 = int(input(\"Isikan Nilai 2 :\"))\n",
    "\n",
    "print(desimal1 & desimal2)\n",
    "print(desimal1 | desimal2)\n",
    "print(desimal1 ^ desimal2)\n",
    "print(desimal1 << desimal2)\n",
    "print(desimal1 >> desimal2)"
   ]
  }
 ],
 "metadata": {
  "kernelspec": {
   "display_name": "Python 3 (ipykernel)",
   "language": "python",
   "name": "python3"
  },
  "language_info": {
   "codemirror_mode": {
    "name": "ipython",
    "version": 3
   },
   "file_extension": ".py",
   "mimetype": "text/x-python",
   "name": "python",
   "nbconvert_exporter": "python",
   "pygments_lexer": "ipython3",
   "version": "3.9.12"
  }
 },
 "nbformat": 4,
 "nbformat_minor": 5
}
